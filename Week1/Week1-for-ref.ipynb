{
 "cells": [
  {
   "cell_type": "code",
   "execution_count": 4,
   "id": "18755567",
   "metadata": {},
   "outputs": [],
   "source": [
    "import os\n",
    "os.environ['KAGGLE_USERNAME'] = 'abhinavpandey1729'  \n",
    "os.environ['KAGGLE_KEY'] = '6ca9b44f97cb00217533ef28f8859223'          "
   ]
  },
  {
   "cell_type": "code",
   "execution_count": 3,
   "id": "0f064c3a",
   "metadata": {},
   "outputs": [
    {
     "data": {
      "application/vnd.jupyter.widget-view+json": {
       "model_id": "a9784a1f06534026b0d37fc7e01110d7",
       "version_major": 2,
       "version_minor": 0
      },
      "text/plain": [
       "VBox(children=(HTML(value='<center> <img\\nsrc=https://www.kaggle.com/static/images/site-logo.png\\nalt=\\'Kaggle…"
      ]
     },
     "metadata": {},
     "output_type": "display_data"
    }
   ],
   "source": [
    "import kagglehub\n",
    "kagglehub.auth.login()"
   ]
  },
  {
   "cell_type": "code",
   "execution_count": null,
   "id": "b1a22588",
   "metadata": {},
   "outputs": [
    {
     "name": "stdout",
     "output_type": "stream",
     "text": [
      "Warning: Looks like you're using an outdated `kagglehub` version (installed: 0.3.6), please consider upgrading to the latest version (0.3.12).\n",
      "Path to dataset files: /Users/lykofos/.cache/kagglehub/datasets/yanmaksi/big-molecules-smiles-dataset/versions/1\n"
     ]
    }
   ],
   "source": [
    "# Download the dataset\n",
    "path = kagglehub.dataset_download(\"yanmaksi/big-molecules-smiles-dataset\")\n",
    "print(\"Path to dataset files:\", path)"
   ]
  },
  {
   "cell_type": "code",
   "execution_count": 5,
   "id": "b81126e6",
   "metadata": {},
   "outputs": [
    {
     "name": "stderr",
     "output_type": "stream",
     "text": [
      "Python(61164) MallocStackLogging: can't turn off malloc stack logging because it was not enabled.\n"
     ]
    }
   ],
   "source": [
    "from sklearn.preprocessing import MinMaxScaler"
   ]
  },
  {
   "cell_type": "code",
   "execution_count": 6,
   "id": "09275a97",
   "metadata": {},
   "outputs": [],
   "source": [
    "import numpy as np\n",
    "import pandas as pd"
   ]
  },
  {
   "cell_type": "code",
   "execution_count": 8,
   "id": "72caeb2a",
   "metadata": {},
   "outputs": [],
   "source": [
    "dataset_path = path\n"
   ]
  },
  {
   "cell_type": "code",
   "execution_count": 9,
   "id": "a12a127c",
   "metadata": {},
   "outputs": [],
   "source": [
    "csv_file =  os.path.join(dataset_path, \"SMILES_Big_Data_Set.csv\")"
   ]
  },
  {
   "cell_type": "code",
   "execution_count": 10,
   "id": "16d49f1b",
   "metadata": {},
   "outputs": [],
   "source": [
    "df = pd.read_csv(csv_file)"
   ]
  },
  {
   "cell_type": "code",
   "execution_count": 11,
   "id": "c9dcb2b0",
   "metadata": {},
   "outputs": [
    {
     "data": {
      "text/html": [
       "<div>\n",
       "<style scoped>\n",
       "    .dataframe tbody tr th:only-of-type {\n",
       "        vertical-align: middle;\n",
       "    }\n",
       "\n",
       "    .dataframe tbody tr th {\n",
       "        vertical-align: top;\n",
       "    }\n",
       "\n",
       "    .dataframe thead th {\n",
       "        text-align: right;\n",
       "    }\n",
       "</style>\n",
       "<table border=\"1\" class=\"dataframe\">\n",
       "  <thead>\n",
       "    <tr style=\"text-align: right;\">\n",
       "      <th></th>\n",
       "      <th>SMILES</th>\n",
       "      <th>pIC50</th>\n",
       "      <th>mol</th>\n",
       "      <th>num_atoms</th>\n",
       "      <th>logP</th>\n",
       "    </tr>\n",
       "  </thead>\n",
       "  <tbody>\n",
       "    <tr>\n",
       "      <th>0</th>\n",
       "      <td>O=S(=O)(Nc1cccc(-c2cnc3ccccc3n2)c1)c1cccs1</td>\n",
       "      <td>4.26</td>\n",
       "      <td>&lt;rdkit.Chem.rdchem.Mol object at 0x7f59df45bc30&gt;</td>\n",
       "      <td>25</td>\n",
       "      <td>4.1591</td>\n",
       "    </tr>\n",
       "    <tr>\n",
       "      <th>1</th>\n",
       "      <td>O=c1cc(-c2nc(-c3ccc(-c4cn(CCP(=O)(O)O)nn4)cc3)...</td>\n",
       "      <td>4.34</td>\n",
       "      <td>&lt;rdkit.Chem.rdchem.Mol object at 0x7f59a320c9e0&gt;</td>\n",
       "      <td>36</td>\n",
       "      <td>3.6743</td>\n",
       "    </tr>\n",
       "    <tr>\n",
       "      <th>2</th>\n",
       "      <td>NC(=O)c1ccc2c(c1)nc(C1CCC(O)CC1)n2CCCO</td>\n",
       "      <td>4.53</td>\n",
       "      <td>&lt;rdkit.Chem.rdchem.Mol object at 0x7f59a320cac0&gt;</td>\n",
       "      <td>23</td>\n",
       "      <td>1.5361</td>\n",
       "    </tr>\n",
       "    <tr>\n",
       "      <th>3</th>\n",
       "      <td>NCCCn1c(C2CCNCC2)nc2cc(C(N)=O)ccc21</td>\n",
       "      <td>4.56</td>\n",
       "      <td>&lt;rdkit.Chem.rdchem.Mol object at 0x7f59a320cba0&gt;</td>\n",
       "      <td>22</td>\n",
       "      <td>0.9510</td>\n",
       "    </tr>\n",
       "    <tr>\n",
       "      <th>4</th>\n",
       "      <td>CNC(=S)Nc1cccc(-c2cnc3ccccc3n2)c1</td>\n",
       "      <td>4.59</td>\n",
       "      <td>&lt;rdkit.Chem.rdchem.Mol object at 0x7f59a320c7b0&gt;</td>\n",
       "      <td>21</td>\n",
       "      <td>3.2130</td>\n",
       "    </tr>\n",
       "  </tbody>\n",
       "</table>\n",
       "</div>"
      ],
      "text/plain": [
       "                                              SMILES  pIC50  \\\n",
       "0         O=S(=O)(Nc1cccc(-c2cnc3ccccc3n2)c1)c1cccs1   4.26   \n",
       "1  O=c1cc(-c2nc(-c3ccc(-c4cn(CCP(=O)(O)O)nn4)cc3)...   4.34   \n",
       "2             NC(=O)c1ccc2c(c1)nc(C1CCC(O)CC1)n2CCCO   4.53   \n",
       "3                NCCCn1c(C2CCNCC2)nc2cc(C(N)=O)ccc21   4.56   \n",
       "4                  CNC(=S)Nc1cccc(-c2cnc3ccccc3n2)c1   4.59   \n",
       "\n",
       "                                                mol  num_atoms    logP  \n",
       "0  <rdkit.Chem.rdchem.Mol object at 0x7f59df45bc30>         25  4.1591  \n",
       "1  <rdkit.Chem.rdchem.Mol object at 0x7f59a320c9e0>         36  3.6743  \n",
       "2  <rdkit.Chem.rdchem.Mol object at 0x7f59a320cac0>         23  1.5361  \n",
       "3  <rdkit.Chem.rdchem.Mol object at 0x7f59a320cba0>         22  0.9510  \n",
       "4  <rdkit.Chem.rdchem.Mol object at 0x7f59a320c7b0>         21  3.2130  "
      ]
     },
     "execution_count": 11,
     "metadata": {},
     "output_type": "execute_result"
    }
   ],
   "source": [
    "df.head()"
   ]
  },
  {
   "cell_type": "code",
   "execution_count": 12,
   "id": "b1ad17ac",
   "metadata": {},
   "outputs": [
    {
     "data": {
      "text/plain": [
       "SMILES\n",
       "CC(NC1CCC(n2cc(C(N)=O)c(Nc3ccc(S(=O)(=O)C(F)(F)F)cc3)n2)C(C#N)C1)C1CC1    6\n",
       "N#CC1CC(N2CCC2)CCC1n1cc(C(N)=O)c(Nc2ccc(C(O)C(F)(F)F)cc2)n1               4\n",
       "CC1(C)CN(C2CCC(n3cc(C(N)=O)c(Nc4ccc(C(C)(O)C(F)(F)F)cc4)n3)C(C#N)C2)C1    4\n",
       "CC(O)(c1ccc(Nc2nn(C3CCC(N4CCC4)CC3C#N)cc2C(N)=O)cc1)C(F)(F)F              4\n",
       "CC1(C)CN(C2CCC(n3cc(C(N)=O)c(Nc4ccc(C(O)C(F)(F)F)cc4)n3)C(C#N)C2)C1       4\n",
       "                                                                         ..\n",
       "COC(=O)c1ccncc1                                                           1\n",
       "COc1cc(Cl)c(Cl)cc1O                                                       1\n",
       "COP(=S)(OC)Oc1ccc([N+](=O)[O-])cc1Cl                                      1\n",
       "CC(=O)n1ccnc1                                                             1\n",
       "N=[N+]=NC=Cc1ccc([N+](=O)[O-])o1                                          1\n",
       "Name: count, Length: 15872, dtype: int64"
      ]
     },
     "execution_count": 12,
     "metadata": {},
     "output_type": "execute_result"
    }
   ],
   "source": [
    "df['SMILES'].value_counts()"
   ]
  },
  {
   "cell_type": "code",
   "execution_count": 13,
   "id": "92131e83",
   "metadata": {},
   "outputs": [
    {
     "data": {
      "text/plain": [
       "False    16087\n",
       "Name: count, dtype: int64"
      ]
     },
     "execution_count": 13,
     "metadata": {},
     "output_type": "execute_result"
    }
   ],
   "source": [
    "df.duplicated().value_counts() #duplicated values"
   ]
  },
  {
   "cell_type": "code",
   "execution_count": 14,
   "id": "654747e9",
   "metadata": {},
   "outputs": [],
   "source": [
    "df.drop_duplicates(inplace=True)"
   ]
  },
  {
   "cell_type": "code",
   "execution_count": 15,
   "id": "8da2ed98",
   "metadata": {},
   "outputs": [],
   "source": [
    "from rdkit import Chem\n",
    "from rdkit.Chem import Descriptors\n"
   ]
  },
  {
   "cell_type": "code",
   "execution_count": 16,
   "id": "86f49f62",
   "metadata": {},
   "outputs": [
    {
     "name": "stdout",
     "output_type": "stream",
     "text": [
      "Added features: ['MolecularWeight', 'NumAtoms', 'NumBonds']\n"
     ]
    }
   ],
   "source": [
    "# Function to get molecular features\n",
    "def get_features(smiles):\n",
    "    mol = Chem.MolFromSmiles(smiles)\n",
    "    return {\n",
    "        'MolecularWeight': Descriptors.MolWt(mol),  # For tempo\n",
    "        'NumAtoms': mol.GetNumAtoms(),             # For pitch\n",
    "        'NumBonds': mol.GetNumBonds()             # For rhythm\n",
    "    }\n",
    "\n",
    "# Add features to dataset\n",
    "features = df['SMILES'].apply(get_features).apply(pd.Series)\n",
    "df = pd.concat([df[['SMILES']], features], axis=1)\n",
    "print(\"Added features:\", list(features.columns))"
   ]
  },
  {
   "cell_type": "code",
   "execution_count": 17,
   "id": "e51f8fd7",
   "metadata": {},
   "outputs": [
    {
     "name": "stdout",
     "output_type": "stream",
     "text": [
      "After cleaning, kept 16087 rows\n"
     ]
    }
   ],
   "source": [
    "# Remove rows with missing values\n",
    "df = df.dropna().reset_index(drop=True)\n",
    "print(\"After cleaning, kept\", len(df), \"rows\")"
   ]
  },
  {
   "cell_type": "code",
   "execution_count": 19,
   "id": "8a4be707",
   "metadata": {},
   "outputs": [],
   "source": [
    "# Normalize features to 0-1\n",
    "scaler = MinMaxScaler()\n",
    "feature_columns = ['MolecularWeight', 'NumAtoms', 'NumBonds']\n",
    "df[feature_columns] = scaler.fit_transform(df[feature_columns])"
   ]
  },
  {
   "cell_type": "code",
   "execution_count": 20,
   "id": "1fd23ea5",
   "metadata": {},
   "outputs": [],
   "source": [
    "# Save to CSV\n",
    "df.to_csv(\"preprocessed_molecules.csv\", index=False)"
   ]
  },
  {
   "cell_type": "code",
   "execution_count": 21,
   "id": "f6cd9843",
   "metadata": {},
   "outputs": [
    {
     "data": {
      "text/html": [
       "<div>\n",
       "<style scoped>\n",
       "    .dataframe tbody tr th:only-of-type {\n",
       "        vertical-align: middle;\n",
       "    }\n",
       "\n",
       "    .dataframe tbody tr th {\n",
       "        vertical-align: top;\n",
       "    }\n",
       "\n",
       "    .dataframe thead th {\n",
       "        text-align: right;\n",
       "    }\n",
       "</style>\n",
       "<table border=\"1\" class=\"dataframe\">\n",
       "  <thead>\n",
       "    <tr style=\"text-align: right;\">\n",
       "      <th></th>\n",
       "      <th>SMILES</th>\n",
       "      <th>MolecularWeight</th>\n",
       "      <th>NumAtoms</th>\n",
       "      <th>NumBonds</th>\n",
       "    </tr>\n",
       "  </thead>\n",
       "  <tbody>\n",
       "    <tr>\n",
       "      <th>0</th>\n",
       "      <td>O=S(=O)(Nc1cccc(-c2cnc3ccccc3n2)c1)c1cccs1</td>\n",
       "      <td>0.281609</td>\n",
       "      <td>0.268293</td>\n",
       "      <td>0.302326</td>\n",
       "    </tr>\n",
       "    <tr>\n",
       "      <th>1</th>\n",
       "      <td>O=c1cc(-c2nc(-c3ccc(-c4cn(CCP(=O)(O)O)nn4)cc3)...</td>\n",
       "      <td>0.401153</td>\n",
       "      <td>0.402439</td>\n",
       "      <td>0.441860</td>\n",
       "    </tr>\n",
       "    <tr>\n",
       "      <th>2</th>\n",
       "      <td>NC(=O)c1ccc2c(c1)nc(C1CCC(O)CC1)n2CCCO</td>\n",
       "      <td>0.238544</td>\n",
       "      <td>0.243902</td>\n",
       "      <td>0.267442</td>\n",
       "    </tr>\n",
       "    <tr>\n",
       "      <th>3</th>\n",
       "      <td>NCCCn1c(C2CCNCC2)nc2cc(C(N)=O)ccc21</td>\n",
       "      <td>0.224786</td>\n",
       "      <td>0.231707</td>\n",
       "      <td>0.255814</td>\n",
       "    </tr>\n",
       "    <tr>\n",
       "      <th>4</th>\n",
       "      <td>CNC(=S)Nc1cccc(-c2cnc3ccccc3n2)c1</td>\n",
       "      <td>0.218755</td>\n",
       "      <td>0.219512</td>\n",
       "      <td>0.244186</td>\n",
       "    </tr>\n",
       "  </tbody>\n",
       "</table>\n",
       "</div>"
      ],
      "text/plain": [
       "                                              SMILES  MolecularWeight  \\\n",
       "0         O=S(=O)(Nc1cccc(-c2cnc3ccccc3n2)c1)c1cccs1         0.281609   \n",
       "1  O=c1cc(-c2nc(-c3ccc(-c4cn(CCP(=O)(O)O)nn4)cc3)...         0.401153   \n",
       "2             NC(=O)c1ccc2c(c1)nc(C1CCC(O)CC1)n2CCCO         0.238544   \n",
       "3                NCCCn1c(C2CCNCC2)nc2cc(C(N)=O)ccc21         0.224786   \n",
       "4                  CNC(=S)Nc1cccc(-c2cnc3ccccc3n2)c1         0.218755   \n",
       "\n",
       "   NumAtoms  NumBonds  \n",
       "0  0.268293  0.302326  \n",
       "1  0.402439  0.441860  \n",
       "2  0.243902  0.267442  \n",
       "3  0.231707  0.255814  \n",
       "4  0.219512  0.244186  "
      ]
     },
     "execution_count": 21,
     "metadata": {},
     "output_type": "execute_result"
    }
   ],
   "source": [
    "df.head()"
   ]
  },
  {
   "cell_type": "code",
   "execution_count": 22,
   "id": "d218237b",
   "metadata": {},
   "outputs": [],
   "source": [
    "def get_features(smiles):\n",
    "    \"\"\"Get simple molecular features from SMILES.\"\"\"\n",
    "    mol = Chem.MolFromSmiles(smiles)\n",
    "    return {\n",
    "        'MolecularWeight': Descriptors.MolWt(mol),  # Weight in Daltons\n",
    "        'NumAtoms': mol.GetNumAtoms(),             # Total atoms\n",
    "        'NumBonds': mol.GetNumBonds()             # Total bonds\n",
    "    }"
   ]
  },
  {
   "cell_type": "code",
   "execution_count": 23,
   "id": "30073fda",
   "metadata": {},
   "outputs": [
    {
     "name": "stdout",
     "output_type": "stream",
     "text": [
      "Extracted features: ['MolecularWeight', 'NumAtoms', 'NumBonds']\n"
     ]
    }
   ],
   "source": [
    "# Apply feature extraction\n",
    "features = df['SMILES'].apply(get_features).apply(pd.Series)\n",
    "df = pd.concat([df[['SMILES']], features], axis=1)\n",
    "print(\"Extracted features:\", list(features.columns))"
   ]
  },
  {
   "cell_type": "code",
   "execution_count": 24,
   "id": "3c663138",
   "metadata": {},
   "outputs": [],
   "source": [
    "#Define audio mappings\n",
    "def map_to_audio(row):\n",
    "    \"\"\"Map molecular features to audio parameters.\"\"\"\n",
    "    return {\n",
    "        'Tempo': 60 + (row['MolecularWeight'] / 500) * 120,  # Tempo: 60-180 BPM\n",
    "        'Pitch': 200 + (row['NumAtoms'] / 50) * 1000,       # Pitch: 200-1200 Hz\n",
    "        'RhythmComplexity': row['NumBonds'] / 50            # Rhythm: 0-1 scale\n",
    "    }"
   ]
  },
  {
   "cell_type": "code",
   "execution_count": 25,
   "id": "32953dbb",
   "metadata": {},
   "outputs": [
    {
     "name": "stdout",
     "output_type": "stream",
     "text": [
      "['Tempo', 'Pitch', 'RhythmComplexity']\n"
     ]
    }
   ],
   "source": [
    "audio_features = df.apply(map_to_audio, axis=1).apply(pd.Series)\n",
    "df = pd.concat([df, audio_features], axis=1)\n",
    "print( list(audio_features.columns))"
   ]
  },
  {
   "cell_type": "code",
   "execution_count": 26,
   "id": "ea0cc66b",
   "metadata": {},
   "outputs": [
    {
     "name": "stdout",
     "output_type": "stream",
     "text": [
      "\n",
      "Correlation Matrix:\n",
      "                  MolecularWeight  NumAtoms  NumBonds     Tempo     Pitch  \\\n",
      "MolecularWeight          1.000000  0.962643   0.95384  1.000000  0.962643   \n",
      "NumAtoms                 0.962643  1.000000   0.99590  0.962643  1.000000   \n",
      "NumBonds                 0.953840  0.995900   1.00000  0.953840  0.995900   \n",
      "Tempo                    1.000000  0.962643   0.95384  1.000000  0.962643   \n",
      "Pitch                    0.962643  1.000000   0.99590  0.962643  1.000000   \n",
      "RhythmComplexity         0.953840  0.995900   1.00000  0.953840  0.995900   \n",
      "\n",
      "                  RhythmComplexity  \n",
      "MolecularWeight            0.95384  \n",
      "NumAtoms                   0.99590  \n",
      "NumBonds                   1.00000  \n",
      "Tempo                      0.95384  \n",
      "Pitch                      0.99590  \n",
      "RhythmComplexity           1.00000  \n"
     ]
    }
   ],
   "source": [
    "correlation_matrix = df[['MolecularWeight', 'NumAtoms', 'NumBonds', 'Tempo', 'Pitch', 'RhythmComplexity']].corr()\n",
    "print(\"\\nCorrelation Matrix:\")\n",
    "print(correlation_matrix)"
   ]
  },
  {
   "cell_type": "markdown",
   "id": "9f5f8c89",
   "metadata": {},
   "source": [
    "## This shows how our molecule numbers relate to music numbers, helping us understand if our mappings make sense.”\n",
    "## We Use df.corr() to generate a correlation matrix, where values near 1 or -1 indicate strong relationships."
   ]
  },
  {
   "cell_type": "code",
   "execution_count": 27,
   "id": "0043e984",
   "metadata": {},
   "outputs": [
    {
     "name": "stdout",
     "output_type": "stream",
     "text": [
      "Saved dataset with features and audio mappings to molecule_audio_features.csv\n",
      "\n",
      "Preview of data with features and audio mappings:\n",
      "                                              SMILES  MolecularWeight  \\\n",
      "0         O=S(=O)(Nc1cccc(-c2cnc3ccccc3n2)c1)c1cccs1          367.455   \n",
      "1  O=c1cc(-c2nc(-c3ccc(-c4cn(CCP(=O)(O)O)nn4)cc3)...          506.434   \n",
      "2             NC(=O)c1ccc2c(c1)nc(C1CCC(O)CC1)n2CCCO          317.389   \n",
      "3                NCCCn1c(C2CCNCC2)nc2cc(C(N)=O)ccc21          301.394   \n",
      "4                  CNC(=S)Nc1cccc(-c2cnc3ccccc3n2)c1          294.383   \n",
      "\n",
      "   NumAtoms  NumBonds      Tempo  Pitch  RhythmComplexity  \n",
      "0      25.0      28.0  148.18920  700.0              0.56  \n",
      "1      36.0      40.0  181.54416  920.0              0.80  \n",
      "2      23.0      25.0  136.17336  660.0              0.50  \n",
      "3      22.0      24.0  132.33456  640.0              0.48  \n",
      "4      21.0      23.0  130.65192  620.0              0.46  \n"
     ]
    }
   ],
   "source": [
    "# Save updated dataset with features and audio mappings\n",
    "df.to_csv(\"molecule_audio_features.csv\", index=False)\n",
    "print(\"Saved dataset with features and audio mappings to molecule_audio_features.csv\")\n",
    "\n",
    "# Preview the data\n",
    "print(\"\\nPreview of data with features and audio mappings:\")\n",
    "print(df[['SMILES', 'MolecularWeight', 'NumAtoms', 'NumBonds', 'Tempo', 'Pitch', 'RhythmComplexity']].head())"
   ]
  },
  {
   "cell_type": "code",
   "execution_count": null,
   "id": "4f68984a",
   "metadata": {},
   "outputs": [],
   "source": []
  }
 ],
 "metadata": {
  "kernelspec": {
   "display_name": "Python 3",
   "language": "python",
   "name": "python3"
  },
  "language_info": {
   "codemirror_mode": {
    "name": "ipython",
    "version": 3
   },
   "file_extension": ".py",
   "mimetype": "text/x-python",
   "name": "python",
   "nbconvert_exporter": "python",
   "pygments_lexer": "ipython3",
   "version": "3.11.4"
  }
 },
 "nbformat": 4,
 "nbformat_minor": 5
}
