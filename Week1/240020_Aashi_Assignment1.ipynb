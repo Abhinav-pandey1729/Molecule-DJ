{
 "cells": [
  {
   "cell_type": "markdown",
   "id": "34a254c0",
   "metadata": {},
   "source": [
    "IMPORTING AND SETTING UP DATASET FOR PRE-PROCESSING"
   ]
  },
  {
   "cell_type": "code",
   "execution_count": 1,
   "id": "0afc4634",
   "metadata": {},
   "outputs": [],
   "source": [
    "import os\n",
    "os.environ['KAGGLE_USERNAME']='aashigupta11'\n",
    "os.environ['KAGGLE_KEY']='fde2991025b1cb38f24d3ee3a1de7eaf'\n"
   ]
  },
  {
   "cell_type": "code",
   "execution_count": 2,
   "id": "00fe387d",
   "metadata": {},
   "outputs": [
    {
     "name": "stdout",
     "output_type": "stream",
     "text": [
      "Requirement already satisfied: kagglehub in c:\\users\\dell\\appdata\\local\\programs\\python\\python312\\lib\\site-packages (0.3.12)\n",
      "Requirement already satisfied: numpy in c:\\users\\dell\\appdata\\local\\programs\\python\\python312\\lib\\site-packages (2.2.6)\n",
      "Requirement already satisfied: pandas in c:\\users\\dell\\appdata\\local\\programs\\python\\python312\\lib\\site-packages (2.2.3)\n",
      "Requirement already satisfied: packaging in c:\\users\\dell\\appdata\\roaming\\python\\python312\\site-packages (from kagglehub) (25.0)\n",
      "Requirement already satisfied: pyyaml in c:\\users\\dell\\appdata\\local\\programs\\python\\python312\\lib\\site-packages (from kagglehub) (6.0.2)\n",
      "Requirement already satisfied: requests in c:\\users\\dell\\appdata\\local\\programs\\python\\python312\\lib\\site-packages (from kagglehub) (2.32.3)\n",
      "Requirement already satisfied: tqdm in c:\\users\\dell\\appdata\\local\\programs\\python\\python312\\lib\\site-packages (from kagglehub) (4.67.1)\n",
      "Requirement already satisfied: python-dateutil>=2.8.2 in c:\\users\\dell\\appdata\\roaming\\python\\python312\\site-packages (from pandas) (2.9.0.post0)\n",
      "Requirement already satisfied: pytz>=2020.1 in c:\\users\\dell\\appdata\\local\\programs\\python\\python312\\lib\\site-packages (from pandas) (2025.2)\n",
      "Requirement already satisfied: tzdata>=2022.7 in c:\\users\\dell\\appdata\\local\\programs\\python\\python312\\lib\\site-packages (from pandas) (2025.2)\n",
      "Requirement already satisfied: six>=1.5 in c:\\users\\dell\\appdata\\roaming\\python\\python312\\site-packages (from python-dateutil>=2.8.2->pandas) (1.17.0)\n",
      "Requirement already satisfied: charset-normalizer<4,>=2 in c:\\users\\dell\\appdata\\local\\programs\\python\\python312\\lib\\site-packages (from requests->kagglehub) (3.4.2)\n",
      "Requirement already satisfied: idna<4,>=2.5 in c:\\users\\dell\\appdata\\local\\programs\\python\\python312\\lib\\site-packages (from requests->kagglehub) (3.10)\n",
      "Requirement already satisfied: urllib3<3,>=1.21.1 in c:\\users\\dell\\appdata\\local\\programs\\python\\python312\\lib\\site-packages (from requests->kagglehub) (2.4.0)\n",
      "Requirement already satisfied: certifi>=2017.4.17 in c:\\users\\dell\\appdata\\local\\programs\\python\\python312\\lib\\site-packages (from requests->kagglehub) (2025.4.26)\n",
      "Requirement already satisfied: colorama in c:\\users\\dell\\appdata\\roaming\\python\\python312\\site-packages (from tqdm->kagglehub) (0.4.6)\n",
      "Note: you may need to restart the kernel to use updated packages.\n"
     ]
    },
    {
     "name": "stderr",
     "output_type": "stream",
     "text": [
      "\n",
      "[notice] A new release of pip is available: 24.0 -> 25.1.1\n",
      "[notice] To update, run: python.exe -m pip install --upgrade pip\n"
     ]
    }
   ],
   "source": [
    "%pip install kagglehub numpy pandas"
   ]
  },
  {
   "cell_type": "code",
   "execution_count": 3,
   "id": "c72929c4",
   "metadata": {},
   "outputs": [
    {
     "name": "stderr",
     "output_type": "stream",
     "text": [
      "c:\\Users\\Dell\\AppData\\Local\\Programs\\Python\\Python312\\Lib\\site-packages\\tqdm\\auto.py:21: TqdmWarning: IProgress not found. Please update jupyter and ipywidgets. See https://ipywidgets.readthedocs.io/en/stable/user_install.html\n",
      "  from .autonotebook import tqdm as notebook_tqdm\n"
     ]
    }
   ],
   "source": [
    "import kagglehub\n",
    "import numpy as np\n",
    "import pandas as pd"
   ]
  },
  {
   "cell_type": "code",
   "execution_count": 4,
   "id": "7c312508",
   "metadata": {},
   "outputs": [
    {
     "name": "stdout",
     "output_type": "stream",
     "text": [
      "C:\\Users\\Dell\\.cache\\kagglehub\\datasets\\dolbokostya\\molecccls\\versions\\1\n"
     ]
    }
   ],
   "source": [
    "path=kagglehub.dataset_download(\"dolbokostya/molecccls\")\n",
    "print(path)"
   ]
  },
  {
   "cell_type": "code",
   "execution_count": 5,
   "id": "511fd7af",
   "metadata": {},
   "outputs": [],
   "source": [
    "dataset_path=path"
   ]
  },
  {
   "cell_type": "code",
   "execution_count": 6,
   "id": "0a9e8dea",
   "metadata": {},
   "outputs": [],
   "source": [
    "csv_file=os.path.join(dataset_path,\".csv\")"
   ]
  },
  {
   "cell_type": "code",
   "execution_count": 7,
   "id": "9f8fbe2d",
   "metadata": {},
   "outputs": [],
   "source": [
    "df=pd.read_csv(csv_file)"
   ]
  },
  {
   "cell_type": "code",
   "execution_count": 8,
   "id": "5baa5662",
   "metadata": {},
   "outputs": [
    {
     "data": {
      "text/html": [
       "<div>\n",
       "<style scoped>\n",
       "    .dataframe tbody tr th:only-of-type {\n",
       "        vertical-align: middle;\n",
       "    }\n",
       "\n",
       "    .dataframe tbody tr th {\n",
       "        vertical-align: top;\n",
       "    }\n",
       "\n",
       "    .dataframe thead th {\n",
       "        text-align: right;\n",
       "    }\n",
       "</style>\n",
       "<table border=\"1\" class=\"dataframe\">\n",
       "  <thead>\n",
       "    <tr style=\"text-align: right;\">\n",
       "      <th></th>\n",
       "      <th>id</th>\n",
       "      <th>smiles</th>\n",
       "      <th>lgK</th>\n",
       "    </tr>\n",
       "  </thead>\n",
       "  <tbody>\n",
       "    <tr>\n",
       "      <th>0</th>\n",
       "      <td>0</td>\n",
       "      <td>CC(C)(O)C(=O)O</td>\n",
       "      <td>3.41</td>\n",
       "    </tr>\n",
       "    <tr>\n",
       "      <th>1</th>\n",
       "      <td>1</td>\n",
       "      <td>CCC(O)(CC)C(=O)O</td>\n",
       "      <td>3.25</td>\n",
       "    </tr>\n",
       "    <tr>\n",
       "      <th>2</th>\n",
       "      <td>2</td>\n",
       "      <td>O=C(O)C1(O)CCCC1</td>\n",
       "      <td>3.22</td>\n",
       "    </tr>\n",
       "    <tr>\n",
       "      <th>3</th>\n",
       "      <td>3</td>\n",
       "      <td>O=C(O)C1(O)CCCCC1</td>\n",
       "      <td>2.78</td>\n",
       "    </tr>\n",
       "    <tr>\n",
       "      <th>4</th>\n",
       "      <td>4</td>\n",
       "      <td>O=C(O)C(O)c1ccccc1</td>\n",
       "      <td>2.82</td>\n",
       "    </tr>\n",
       "  </tbody>\n",
       "</table>\n",
       "</div>"
      ],
      "text/plain": [
       "   id              smiles   lgK\n",
       "0   0      CC(C)(O)C(=O)O  3.41\n",
       "1   1    CCC(O)(CC)C(=O)O  3.25\n",
       "2   2    O=C(O)C1(O)CCCC1  3.22\n",
       "3   3   O=C(O)C1(O)CCCCC1  2.78\n",
       "4   4  O=C(O)C(O)c1ccccc1  2.82"
      ]
     },
     "execution_count": 8,
     "metadata": {},
     "output_type": "execute_result"
    }
   ],
   "source": [
    "df.head()"
   ]
  },
  {
   "cell_type": "markdown",
   "id": "d43fddb1",
   "metadata": {},
   "source": [
    "Q1- CHECKING IF DATA IS RAW OR PROCESSED?"
   ]
  },
  {
   "cell_type": "code",
   "execution_count": 9,
   "id": "36c13472",
   "metadata": {},
   "outputs": [
    {
     "data": {
      "text/plain": [
       "False    247\n",
       "Name: count, dtype: int64"
      ]
     },
     "execution_count": 9,
     "metadata": {},
     "output_type": "execute_result"
    }
   ],
   "source": [
    "df.duplicated().value_counts()  # This counts duplicates if any, No duplicates found"
   ]
  },
  {
   "cell_type": "code",
   "execution_count": 10,
   "id": "e7ae0405",
   "metadata": {},
   "outputs": [
    {
     "data": {
      "text/plain": [
       "id     smiles  lgK  \n",
       "False  False   False    247\n",
       "Name: count, dtype: int64"
      ]
     },
     "execution_count": 10,
     "metadata": {},
     "output_type": "execute_result"
    }
   ],
   "source": [
    "df.isnull().value_counts()    # Counts null values of any, None found\n"
   ]
  },
  {
   "cell_type": "code",
   "execution_count": 11,
   "id": "4f28f4b0",
   "metadata": {},
   "outputs": [
    {
     "name": "stdout",
     "output_type": "stream",
     "text": [
      "                id                                smiles         lgK\n",
      "count   247.000000                                   247  247.000000\n",
      "unique         NaN                                   235         NaN\n",
      "top            NaN  O=C(O)CN1CCOCCOCCN(CC(=O)O)CCOCCOCC1         NaN\n",
      "freq           NaN                                     4         NaN\n",
      "mean    124.178138                                   NaN    8.644765\n",
      "std      72.185009                                   NaN    6.141239\n",
      "min       0.000000                                   NaN    0.990000\n",
      "25%      62.500000                                   NaN    3.940000\n",
      "50%     124.000000                                   NaN    6.800000\n",
      "75%     186.500000                                   NaN   10.860000\n",
      "max     248.000000                                   NaN   29.300000\n"
     ]
    }
   ],
   "source": [
    "print(df.describe(include='all'))    \n",
    "# We found 247 rows but 235 unique smile notations- therefore duplicacy, but couldn't detect earlier due to unique ids."
   ]
  },
  {
   "cell_type": "code",
   "execution_count": 12,
   "id": "3b89e8f9",
   "metadata": {},
   "outputs": [
    {
     "data": {
      "text/html": [
       "<div>\n",
       "<style scoped>\n",
       "    .dataframe tbody tr th:only-of-type {\n",
       "        vertical-align: middle;\n",
       "    }\n",
       "\n",
       "    .dataframe tbody tr th {\n",
       "        vertical-align: top;\n",
       "    }\n",
       "\n",
       "    .dataframe thead th {\n",
       "        text-align: right;\n",
       "    }\n",
       "</style>\n",
       "<table border=\"1\" class=\"dataframe\">\n",
       "  <thead>\n",
       "    <tr style=\"text-align: right;\">\n",
       "      <th></th>\n",
       "      <th>id</th>\n",
       "      <th>smiles</th>\n",
       "      <th>lgK</th>\n",
       "    </tr>\n",
       "  </thead>\n",
       "  <tbody>\n",
       "    <tr>\n",
       "      <th>68</th>\n",
       "      <td>69</td>\n",
       "      <td>O=C(O)CN1CCOCCOCCN(CC(=O)O)CCOCCOCC1</td>\n",
       "      <td>10.84</td>\n",
       "    </tr>\n",
       "    <tr>\n",
       "      <th>69</th>\n",
       "      <td>70</td>\n",
       "      <td>O=C(O)CN1CCOCCOCCNCCOCCOCC1</td>\n",
       "      <td>6.01</td>\n",
       "    </tr>\n",
       "    <tr>\n",
       "      <th>70</th>\n",
       "      <td>71</td>\n",
       "      <td>O=C(O)CN1CCOCCOCCN(CC(=O)O)CCOCC1</td>\n",
       "      <td>10.33</td>\n",
       "    </tr>\n",
       "    <tr>\n",
       "      <th>112</th>\n",
       "      <td>113</td>\n",
       "      <td>O=C(O)CN1CCOCCOCCN(CC(=O)O)CCOCC1</td>\n",
       "      <td>10.33</td>\n",
       "    </tr>\n",
       "    <tr>\n",
       "      <th>113</th>\n",
       "      <td>114</td>\n",
       "      <td>O=C(O)CN1CCOCCOCCN(CC(=O)O)CCOCCOCC1</td>\n",
       "      <td>10.84</td>\n",
       "    </tr>\n",
       "    <tr>\n",
       "      <th>114</th>\n",
       "      <td>115</td>\n",
       "      <td>O=C(O)CN1CCOCCOCCNCCOCCOCC1</td>\n",
       "      <td>6.01</td>\n",
       "    </tr>\n",
       "    <tr>\n",
       "      <th>144</th>\n",
       "      <td>146</td>\n",
       "      <td>O=C(O)CN1CCOCCOCCN(CC(=O)O)CCOCC1</td>\n",
       "      <td>10.33</td>\n",
       "    </tr>\n",
       "    <tr>\n",
       "      <th>145</th>\n",
       "      <td>147</td>\n",
       "      <td>O=C(O)CN1CCOCCOCCN(CC(=O)O)CCOCCOCC1</td>\n",
       "      <td>10.84</td>\n",
       "    </tr>\n",
       "    <tr>\n",
       "      <th>153</th>\n",
       "      <td>155</td>\n",
       "      <td>O=C(O)CN(CC(=O)O)Cc1ccccc1O</td>\n",
       "      <td>14.87</td>\n",
       "    </tr>\n",
       "    <tr>\n",
       "      <th>160</th>\n",
       "      <td>162</td>\n",
       "      <td>O=C(O)CN1CCOCCOCCN(CC(=O)O)CCOCC1</td>\n",
       "      <td>10.33</td>\n",
       "    </tr>\n",
       "    <tr>\n",
       "      <th>161</th>\n",
       "      <td>163</td>\n",
       "      <td>O=C(O)CN1CCOCCOCCN(CC(=O)O)CCOCCOCC1</td>\n",
       "      <td>10.84</td>\n",
       "    </tr>\n",
       "    <tr>\n",
       "      <th>163</th>\n",
       "      <td>165</td>\n",
       "      <td>O=C(O)CN1CCOCCOCCNCCOCCOCC1</td>\n",
       "      <td>6.01</td>\n",
       "    </tr>\n",
       "    <tr>\n",
       "      <th>172</th>\n",
       "      <td>174</td>\n",
       "      <td>CCN(CC)C(=O)c1cccc(C(=O)N(CC)CC)n1</td>\n",
       "      <td>8.10</td>\n",
       "    </tr>\n",
       "    <tr>\n",
       "      <th>173</th>\n",
       "      <td>175</td>\n",
       "      <td>O=C(c1cccc(C(=O)N(Cc2ccccc2)Cc2ccccc2)n1)N(Cc1...</td>\n",
       "      <td>5.30</td>\n",
       "    </tr>\n",
       "    <tr>\n",
       "      <th>174</th>\n",
       "      <td>176</td>\n",
       "      <td>CC(C)N(C(=O)c1cccc(C(=O)N(C(C)C)C(C)C)n1)C(C)C</td>\n",
       "      <td>7.60</td>\n",
       "    </tr>\n",
       "    <tr>\n",
       "      <th>176</th>\n",
       "      <td>178</td>\n",
       "      <td>O=C(O)CN(CC(=O)O)Cc1ccccc1O</td>\n",
       "      <td>14.05</td>\n",
       "    </tr>\n",
       "    <tr>\n",
       "      <th>184</th>\n",
       "      <td>186</td>\n",
       "      <td>O=C(c1cccc(C(=O)N(Cc2ccccc2)Cc2ccccc2)n1)N(Cc1...</td>\n",
       "      <td>5.30</td>\n",
       "    </tr>\n",
       "    <tr>\n",
       "      <th>185</th>\n",
       "      <td>187</td>\n",
       "      <td>CCN(CC)C(=O)c1cccc(C(=O)N(CC)CC)n1</td>\n",
       "      <td>8.10</td>\n",
       "    </tr>\n",
       "    <tr>\n",
       "      <th>186</th>\n",
       "      <td>188</td>\n",
       "      <td>CC(C)N(C(=O)c1cccc(C(=O)N(C(C)C)C(C)C)n1)C(C)C</td>\n",
       "      <td>7.60</td>\n",
       "    </tr>\n",
       "  </tbody>\n",
       "</table>\n",
       "</div>"
      ],
      "text/plain": [
       "      id                                             smiles    lgK\n",
       "68    69               O=C(O)CN1CCOCCOCCN(CC(=O)O)CCOCCOCC1  10.84\n",
       "69    70                        O=C(O)CN1CCOCCOCCNCCOCCOCC1   6.01\n",
       "70    71                  O=C(O)CN1CCOCCOCCN(CC(=O)O)CCOCC1  10.33\n",
       "112  113                  O=C(O)CN1CCOCCOCCN(CC(=O)O)CCOCC1  10.33\n",
       "113  114               O=C(O)CN1CCOCCOCCN(CC(=O)O)CCOCCOCC1  10.84\n",
       "114  115                        O=C(O)CN1CCOCCOCCNCCOCCOCC1   6.01\n",
       "144  146                  O=C(O)CN1CCOCCOCCN(CC(=O)O)CCOCC1  10.33\n",
       "145  147               O=C(O)CN1CCOCCOCCN(CC(=O)O)CCOCCOCC1  10.84\n",
       "153  155                        O=C(O)CN(CC(=O)O)Cc1ccccc1O  14.87\n",
       "160  162                  O=C(O)CN1CCOCCOCCN(CC(=O)O)CCOCC1  10.33\n",
       "161  163               O=C(O)CN1CCOCCOCCN(CC(=O)O)CCOCCOCC1  10.84\n",
       "163  165                        O=C(O)CN1CCOCCOCCNCCOCCOCC1   6.01\n",
       "172  174                 CCN(CC)C(=O)c1cccc(C(=O)N(CC)CC)n1   8.10\n",
       "173  175  O=C(c1cccc(C(=O)N(Cc2ccccc2)Cc2ccccc2)n1)N(Cc1...   5.30\n",
       "174  176     CC(C)N(C(=O)c1cccc(C(=O)N(C(C)C)C(C)C)n1)C(C)C   7.60\n",
       "176  178                        O=C(O)CN(CC(=O)O)Cc1ccccc1O  14.05\n",
       "184  186  O=C(c1cccc(C(=O)N(Cc2ccccc2)Cc2ccccc2)n1)N(Cc1...   5.30\n",
       "185  187                 CCN(CC)C(=O)c1cccc(C(=O)N(CC)CC)n1   8.10\n",
       "186  188     CC(C)N(C(=O)c1cccc(C(=O)N(C(C)C)C(C)C)n1)C(C)C   7.60"
      ]
     },
     "execution_count": 12,
     "metadata": {},
     "output_type": "execute_result"
    }
   ],
   "source": [
    "df[df.duplicated(subset='smiles', keep=False)] "
   ]
  },
  {
   "cell_type": "markdown",
   "id": "468df542",
   "metadata": {},
   "source": [
    "A1- Thus, the data is unprocessed or raw."
   ]
  },
  {
   "cell_type": "markdown",
   "id": "0443e366",
   "metadata": {},
   "source": [
    "Q2- Are there any duplicate entries? If yes, then what to do?"
   ]
  },
  {
   "cell_type": "markdown",
   "id": "60b38dc5",
   "metadata": {},
   "source": [
    "A2- Yes, we remove those entries whose smile notation and log k values, both are same"
   ]
  },
  {
   "cell_type": "code",
   "execution_count": 13,
   "id": "3a8c1002",
   "metadata": {},
   "outputs": [],
   "source": [
    "df_clean = df.drop_duplicates(subset=['smiles', 'lgK']).reset_index(drop=True)  #duplicates removed."
   ]
  },
  {
   "cell_type": "code",
   "execution_count": 14,
   "id": "6b0d636e",
   "metadata": {},
   "outputs": [
    {
     "data": {
      "text/html": [
       "<div>\n",
       "<style scoped>\n",
       "    .dataframe tbody tr th:only-of-type {\n",
       "        vertical-align: middle;\n",
       "    }\n",
       "\n",
       "    .dataframe tbody tr th {\n",
       "        vertical-align: top;\n",
       "    }\n",
       "\n",
       "    .dataframe thead th {\n",
       "        text-align: right;\n",
       "    }\n",
       "</style>\n",
       "<table border=\"1\" class=\"dataframe\">\n",
       "  <thead>\n",
       "    <tr style=\"text-align: right;\">\n",
       "      <th></th>\n",
       "      <th>id</th>\n",
       "      <th>smiles</th>\n",
       "      <th>lgK</th>\n",
       "    </tr>\n",
       "  </thead>\n",
       "  <tbody>\n",
       "    <tr>\n",
       "      <th>148</th>\n",
       "      <td>155</td>\n",
       "      <td>O=C(O)CN(CC(=O)O)Cc1ccccc1O</td>\n",
       "      <td>14.87</td>\n",
       "    </tr>\n",
       "    <tr>\n",
       "      <th>168</th>\n",
       "      <td>178</td>\n",
       "      <td>O=C(O)CN(CC(=O)O)Cc1ccccc1O</td>\n",
       "      <td>14.05</td>\n",
       "    </tr>\n",
       "  </tbody>\n",
       "</table>\n",
       "</div>"
      ],
      "text/plain": [
       "      id                       smiles    lgK\n",
       "148  155  O=C(O)CN(CC(=O)O)Cc1ccccc1O  14.87\n",
       "168  178  O=C(O)CN(CC(=O)O)Cc1ccccc1O  14.05"
      ]
     },
     "execution_count": 14,
     "metadata": {},
     "output_type": "execute_result"
    }
   ],
   "source": [
    "df_clean[df_clean.duplicated(subset='smiles', keep=False)] #these are probably isomers of same molecule- so we keep them."
   ]
  },
  {
   "cell_type": "markdown",
   "id": "3dc18f38",
   "metadata": {},
   "source": [
    "Q3- Are there any missing entries? If yes, then what to do?"
   ]
  },
  {
   "cell_type": "code",
   "execution_count": 15,
   "id": "8137e1a2",
   "metadata": {},
   "outputs": [
    {
     "data": {
      "text/plain": [
       "id        0\n",
       "smiles    0\n",
       "lgK       0\n",
       "dtype: int64"
      ]
     },
     "execution_count": 15,
     "metadata": {},
     "output_type": "execute_result"
    }
   ],
   "source": [
    "df.isnull().sum() "
   ]
  },
  {
   "cell_type": "markdown",
   "id": "bde7a960",
   "metadata": {},
   "source": [
    "A3- no missing values- if there were, we would have removed them."
   ]
  },
  {
   "cell_type": "markdown",
   "id": "5a043ce0",
   "metadata": {},
   "source": [
    "Q4- Is the data inconsistent somewhere?- Yes, there were, and were removed. "
   ]
  },
  {
   "cell_type": "code",
   "execution_count": 16,
   "id": "77f2bad0",
   "metadata": {},
   "outputs": [
    {
     "name": "stdout",
     "output_type": "stream",
     "text": [
      "<class 'pandas.core.frame.DataFrame'>\n",
      "RangeIndex: 247 entries, 0 to 246\n",
      "Data columns (total 3 columns):\n",
      " #   Column  Non-Null Count  Dtype  \n",
      "---  ------  --------------  -----  \n",
      " 0   id      247 non-null    int64  \n",
      " 1   smiles  247 non-null    object \n",
      " 2   lgK     247 non-null    float64\n",
      "dtypes: float64(1), int64(1), object(1)\n",
      "memory usage: 5.9+ KB\n"
     ]
    }
   ],
   "source": [
    "df.info() # original data"
   ]
  },
  {
   "cell_type": "code",
   "execution_count": 17,
   "id": "6b99797b",
   "metadata": {},
   "outputs": [
    {
     "name": "stdout",
     "output_type": "stream",
     "text": [
      "<class 'pandas.core.frame.DataFrame'>\n",
      "RangeIndex: 236 entries, 0 to 235\n",
      "Data columns (total 3 columns):\n",
      " #   Column  Non-Null Count  Dtype  \n",
      "---  ------  --------------  -----  \n",
      " 0   id      236 non-null    int64  \n",
      " 1   smiles  236 non-null    object \n",
      " 2   lgK     236 non-null    float64\n",
      "dtypes: float64(1), int64(1), object(1)\n",
      "memory usage: 5.7+ KB\n"
     ]
    }
   ],
   "source": [
    "df_clean.info() # cleaned data"
   ]
  }
 ],
 "metadata": {
  "kernelspec": {
   "display_name": "Python 3",
   "language": "python",
   "name": "python3"
  },
  "language_info": {
   "codemirror_mode": {
    "name": "ipython",
    "version": 3
   },
   "file_extension": ".py",
   "mimetype": "text/x-python",
   "name": "python",
   "nbconvert_exporter": "python",
   "pygments_lexer": "ipython3",
   "version": "3.12.4"
  }
 },
 "nbformat": 4,
 "nbformat_minor": 5
}
