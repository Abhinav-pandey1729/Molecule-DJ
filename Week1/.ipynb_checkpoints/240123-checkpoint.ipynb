{
 "cells": [
  {
   "cell_type": "code",
   "execution_count": null,
   "metadata": {},
   "outputs": [],
   "source": [
    "# Week 1: EDA & Preprocessing on SMILES Dataset\n",
    "\n",
    "import pandas as pd\n",
    "import numpy as np\n",
    "import matplotlib.pyplot as plt\n",
    "import seaborn as sns\n",
    "import re\n",
    "import nltk\n",
    "from nltk.corpus import stopwords\n",
    "\n",
    "# Download stopwords once\n",
    "nltk.download('stopwords')\n",
    "stop_words = set(stopwords.words('english'))\n",
    "\n",
    "# 1. Load the dataset\n",
    "df = pd.read_csv('DDH Data with Properties.csv')\n",
    "print(\"First 5 rows of the dataset:\\n\", df.head())\n",
    "\n",
    "# 2. Basic Info\n",
    "print(\"\\nDataset Info:\\n\")\n",
    "print(df.info())\n",
    "\n",
    "# 3. Shape\n",
    "print(f\"\\nDataset shape: {df.shape}\")\n",
    "\n",
    "# 4. Check for duplicates\n",
    "duplicates = df.duplicated()\n",
    "print(f\"\\nNumber of duplicate rows: {duplicates.sum()}\")\n",
    "if duplicates.sum() > 0:\n",
    "    df = df.drop_duplicates()\n",
    "    print(\"Duplicates removed.\")\n",
    "    print(f\"New shape: {df.shape}\")\n",
    "\n",
    "# 5. Check for missing values\n",
    "print(\"\\nMissing values per column:\\n\", df.isnull().sum())\n",
    "df = df.dropna()  # or you can fillna()\n",
    "print(f\"New shape after removing nulls: {df.shape}\")\n",
    "\n",
    "# 6. Check for inconsistent data (basic)\n",
    "print(\"\\nColumn names:\\n\", df.columns)\n",
    "# Let's assume the SMILES column is named 'SMILES'\n",
    "if 'SMILES' in df.columns:\n",
    "    print(\"\\nExample SMILES strings:\\n\", df['SMILES'].head())\n",
    "else:\n",
    "    print(\"No SMILES column found — update the column name accordingly.\")\n",
    "\n"
   ]
  }
 ],
 "metadata": {
  "language_info": {
   "name": "python"
  }
 },
 "nbformat": 4,
 "nbformat_minor": 2
}
